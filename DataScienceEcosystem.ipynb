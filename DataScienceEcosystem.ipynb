{
 "cells": [
  {
   "cell_type": "markdown",
   "id": "efbca8cb",
   "metadata": {},
   "source": [
    "# Data Science Tools and Ecosystem"
   ]
  },
  {
   "cell_type": "markdown",
   "id": "d095e001",
   "metadata": {},
   "source": [
    "In this notebook, Data Science Tools and Ecosystem are summarized "
   ]
  },
  {
   "cell_type": "markdown",
   "id": "cb49492e",
   "metadata": {},
   "source": [
    "**Objectives:**\n",
    "    \n",
    "    - List popular languages for Data Science\n",
    "    - Introduce common libraries in Data Science\n",
    "    - Evaluate arithmetic expressions in Python in a Jupyter Notebook "
   ]
  },
  {
   "cell_type": "markdown",
   "id": "34d3342d",
   "metadata": {},
   "source": [
    "Some of the popular languages that Data Scientists use are:\n",
    "    \n",
    "    1. Python\n",
    "    2. R\n",
    "    3. Julia\n",
    "    4. SQL"
   ]
  },
  {
   "cell_type": "markdown",
   "id": "9961b6cb",
   "metadata": {},
   "source": [
    "Some of the commonly used libraries used by Data Scientists include:\n",
    "    \n",
    "    1. NumPy\n",
    "    2. pandas\n",
    "    3. PyTorch"
   ]
  },
  {
   "cell_type": "markdown",
   "id": "644db564",
   "metadata": {},
   "source": [
    "|Data Science Tools|\n",
    "|-------------------|\n",
    "|Jupyter Notebook|\n",
    "|Visual Studio Code |\n",
    "|PyCharm|\n",
    "|Spyder|\n"
   ]
  },
  {
   "cell_type": "markdown",
   "id": "ecd91315",
   "metadata": {},
   "source": [
    "### Below are a few examples of evaluating arithmetic expressions in Python"
   ]
  },
  {
   "cell_type": "code",
   "execution_count": 8,
   "id": "930d57a8",
   "metadata": {},
   "outputs": [
    {
     "data": {
      "text/plain": [
       "17"
      ]
     },
     "execution_count": 8,
     "metadata": {},
     "output_type": "execute_result"
    }
   ],
   "source": [
    "# This is a simple aritmetic expression to multiply then add integers\n",
    "(3*4)+5"
   ]
  },
  {
   "cell_type": "code",
   "execution_count": 9,
   "id": "405b13e5",
   "metadata": {},
   "outputs": [
    {
     "data": {
      "text/plain": [
       "3.3333333333333335"
      ]
     },
     "execution_count": 9,
     "metadata": {},
     "output_type": "execute_result"
    }
   ],
   "source": [
    "# This will convert 200 minutes to hours by dividing by 60\n",
    "200/60"
   ]
  },
  {
   "cell_type": "markdown",
   "id": "f4e997dd",
   "metadata": {},
   "source": [
    "## Author:\n",
    "Mora Guyot"
   ]
  },
  {
   "cell_type": "code",
   "execution_count": null,
   "id": "c31a30c7",
   "metadata": {},
   "outputs": [],
   "source": []
  }
 ],
 "metadata": {
  "kernelspec": {
   "display_name": "Python 3 (ipykernel)",
   "language": "python",
   "name": "python3"
  },
  "language_info": {
   "codemirror_mode": {
    "name": "ipython",
    "version": 3
   },
   "file_extension": ".py",
   "mimetype": "text/x-python",
   "name": "python",
   "nbconvert_exporter": "python",
   "pygments_lexer": "ipython3",
   "version": "3.8.2"
  }
 },
 "nbformat": 4,
 "nbformat_minor": 5
}
